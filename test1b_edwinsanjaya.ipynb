{
  "nbformat": 4,
  "nbformat_minor": 0,
  "metadata": {
    "colab": {
      "name": "test1b-edwinsanjaya.ipynb",
      "provenance": [],
      "collapsed_sections": [
        "tuV_3YU6XBzo",
        "VlYZIIZul0pf",
        "xQd-dPxLMtUm"
      ],
      "toc_visible": true
    },
    "kernelspec": {
      "name": "python3",
      "display_name": "Python 3"
    },
    "language_info": {
      "name": "python"
    }
  },
  "cells": [
    {
      "cell_type": "markdown",
      "metadata": {
        "id": "NAyKF_dyP2lY"
      },
      "source": [
        "# **NETT MARGIN Optimization**"
      ]
    },
    {
      "cell_type": "code",
      "metadata": {
        "colab": {
          "base_uri": "https://localhost:8080/"
        },
        "id": "khKbGy97fiKw",
        "outputId": "fb1a1848-9962-4a15-ea61-4a426aec7434"
      },
      "source": [
        "pip install --upgrade scipy"
      ],
      "execution_count": 1,
      "outputs": [
        {
          "output_type": "stream",
          "text": [
            "Requirement already up-to-date: scipy in /usr/local/lib/python3.7/dist-packages (1.6.3)\n",
            "Requirement already satisfied, skipping upgrade: numpy<1.23.0,>=1.16.5 in /usr/local/lib/python3.7/dist-packages (from scipy) (1.19.5)\n"
          ],
          "name": "stdout"
        }
      ]
    },
    {
      "cell_type": "code",
      "metadata": {
        "id": "TWNYoyqpQGTi"
      },
      "source": [
        "import pandas as pd\n",
        "import numpy as np\n",
        "from scipy.optimize import linprog"
      ],
      "execution_count": 2,
      "outputs": []
    },
    {
      "cell_type": "markdown",
      "metadata": {
        "id": "tuV_3YU6XBzo"
      },
      "source": [
        "##**Data Preparation**"
      ]
    },
    {
      "cell_type": "code",
      "metadata": {
        "colab": {
          "base_uri": "https://localhost:8080/",
          "height": 243
        },
        "id": "_PhShccPSiAU",
        "outputId": "8ea37096-2f01-4c88-c5d7-67a21fbfd679"
      },
      "source": [
        "df = pd.read_excel('/content/drive/MyDrive/Optimization Plant.xlsx')\n",
        "df.head()"
      ],
      "execution_count": 3,
      "outputs": [
        {
          "output_type": "execute_result",
          "data": {
            "text/html": [
              "<div>\n",
              "<style scoped>\n",
              "    .dataframe tbody tr th:only-of-type {\n",
              "        vertical-align: middle;\n",
              "    }\n",
              "\n",
              "    .dataframe tbody tr th {\n",
              "        vertical-align: top;\n",
              "    }\n",
              "\n",
              "    .dataframe thead th {\n",
              "        text-align: right;\n",
              "    }\n",
              "</style>\n",
              "<table border=\"1\" class=\"dataframe\">\n",
              "  <thead>\n",
              "    <tr style=\"text-align: right;\">\n",
              "      <th></th>\n",
              "      <th>Case</th>\n",
              "      <th>DEMAND</th>\n",
              "      <th>KOTA</th>\n",
              "      <th>JENIS_ITEM</th>\n",
              "      <th>Unnamed: 4</th>\n",
              "      <th>GUDANG</th>\n",
              "      <th>BIAYA HANDLING @ CARTON</th>\n",
              "      <th>ONGKIR-BDG @ CARTON</th>\n",
              "      <th>ONGKIR-YOGYA @ CARTON</th>\n",
              "      <th>ONGKIR-MLG @ CARTON</th>\n",
              "      <th>ONGKIR-JKT @ CARTON</th>\n",
              "      <th>INDEX_MARGIN AA</th>\n",
              "      <th>INDEX_MARGIN BB</th>\n",
              "      <th>INDEX_MARGIN_CC</th>\n",
              "      <th>Capacity  AA</th>\n",
              "      <th>Capacity BB</th>\n",
              "      <th>Capacity  CC</th>\n",
              "      <th>Unnamed: 17</th>\n",
              "      <th>Unnamed: 18</th>\n",
              "      <th>Unnamed: 19</th>\n",
              "    </tr>\n",
              "  </thead>\n",
              "  <tbody>\n",
              "    <tr>\n",
              "      <th>0</th>\n",
              "      <td>1</td>\n",
              "      <td>20000.0</td>\n",
              "      <td>BANDUNG</td>\n",
              "      <td>AA</td>\n",
              "      <td>NaN</td>\n",
              "      <td>PLANT1</td>\n",
              "      <td>1000</td>\n",
              "      <td>2500</td>\n",
              "      <td>1500.0</td>\n",
              "      <td>2000.0</td>\n",
              "      <td>2000.0</td>\n",
              "      <td>50000.0</td>\n",
              "      <td>45000.0</td>\n",
              "      <td>60000.0</td>\n",
              "      <td>15000.0</td>\n",
              "      <td>20000.0</td>\n",
              "      <td>12000.0</td>\n",
              "      <td>NaN</td>\n",
              "      <td>NaN</td>\n",
              "      <td>NaN</td>\n",
              "    </tr>\n",
              "    <tr>\n",
              "      <th>1</th>\n",
              "      <td>2</td>\n",
              "      <td>12000.0</td>\n",
              "      <td>BANDUNG</td>\n",
              "      <td>BB</td>\n",
              "      <td>NaN</td>\n",
              "      <td>PLANT2</td>\n",
              "      <td>1100</td>\n",
              "      <td>2400</td>\n",
              "      <td>1000.0</td>\n",
              "      <td>2000.0</td>\n",
              "      <td>2500.0</td>\n",
              "      <td>50000.0</td>\n",
              "      <td>50000.0</td>\n",
              "      <td>70000.0</td>\n",
              "      <td>22000.0</td>\n",
              "      <td>15000.0</td>\n",
              "      <td>15000.0</td>\n",
              "      <td>NaN</td>\n",
              "      <td>NaN</td>\n",
              "      <td>NaN</td>\n",
              "    </tr>\n",
              "    <tr>\n",
              "      <th>2</th>\n",
              "      <td>3</td>\n",
              "      <td>12000.0</td>\n",
              "      <td>BANDUNG</td>\n",
              "      <td>CC</td>\n",
              "      <td>NaN</td>\n",
              "      <td>PLANT3</td>\n",
              "      <td>1200</td>\n",
              "      <td>1000</td>\n",
              "      <td>3000.0</td>\n",
              "      <td>2000.0</td>\n",
              "      <td>3000.0</td>\n",
              "      <td>60000.0</td>\n",
              "      <td>45000.0</td>\n",
              "      <td>55000.0</td>\n",
              "      <td>20000.0</td>\n",
              "      <td>10000.0</td>\n",
              "      <td>27000.0</td>\n",
              "      <td>NaN</td>\n",
              "      <td>NaN</td>\n",
              "      <td>NaN</td>\n",
              "    </tr>\n",
              "    <tr>\n",
              "      <th>3</th>\n",
              "      <td>4</td>\n",
              "      <td>15000.0</td>\n",
              "      <td>YOGYA</td>\n",
              "      <td>AA</td>\n",
              "      <td>NaN</td>\n",
              "      <td>NaN</td>\n",
              "      <td>NaN</td>\n",
              "      <td>NaN</td>\n",
              "      <td>NaN</td>\n",
              "      <td>NaN</td>\n",
              "      <td>NaN</td>\n",
              "      <td>NaN</td>\n",
              "      <td>NaN</td>\n",
              "      <td>NaN</td>\n",
              "      <td>NaN</td>\n",
              "      <td>NaN</td>\n",
              "      <td>NaN</td>\n",
              "      <td>NaN</td>\n",
              "      <td>NaN</td>\n",
              "      <td>NaN</td>\n",
              "    </tr>\n",
              "    <tr>\n",
              "      <th>4</th>\n",
              "      <td>5</td>\n",
              "      <td>11000.0</td>\n",
              "      <td>YOGYA</td>\n",
              "      <td>BB</td>\n",
              "      <td>NaN</td>\n",
              "      <td>NaN</td>\n",
              "      <td>NaN</td>\n",
              "      <td>NaN</td>\n",
              "      <td>NaN</td>\n",
              "      <td>NaN</td>\n",
              "      <td>NaN</td>\n",
              "      <td>NaN</td>\n",
              "      <td>NaN</td>\n",
              "      <td>NaN</td>\n",
              "      <td>NaN</td>\n",
              "      <td>NaN</td>\n",
              "      <td>NaN</td>\n",
              "      <td>NaN</td>\n",
              "      <td>NaN</td>\n",
              "      <td>NaN</td>\n",
              "    </tr>\n",
              "  </tbody>\n",
              "</table>\n",
              "</div>"
            ],
            "text/plain": [
              "  Case   DEMAND     KOTA  ... Unnamed: 17  Unnamed: 18 Unnamed: 19\n",
              "0    1  20000.0  BANDUNG  ...         NaN          NaN         NaN\n",
              "1    2  12000.0  BANDUNG  ...         NaN          NaN         NaN\n",
              "2    3  12000.0  BANDUNG  ...         NaN          NaN         NaN\n",
              "3    4  15000.0    YOGYA  ...         NaN          NaN         NaN\n",
              "4    5  11000.0    YOGYA  ...         NaN          NaN         NaN\n",
              "\n",
              "[5 rows x 20 columns]"
            ]
          },
          "metadata": {
            "tags": []
          },
          "execution_count": 3
        }
      ]
    },
    {
      "cell_type": "code",
      "metadata": {
        "colab": {
          "base_uri": "https://localhost:8080/"
        },
        "id": "PupaLTDBTuco",
        "outputId": "99876725-2c39-4016-d15d-9850e8c9a874"
      },
      "source": [
        "arr_df = df.to_numpy()\n",
        "print(arr_df)"
      ],
      "execution_count": 4,
      "outputs": [
        {
          "output_type": "stream",
          "text": [
            "[[1 20000.0 'BANDUNG' 'AA' nan 'PLANT1' 1000 2500 1500.0 2000.0 2000.0\n",
            "  50000.0 45000.0 60000.0 15000.0 20000.0 12000.0 nan nan nan]\n",
            " [2 12000.0 'BANDUNG' 'BB' nan 'PLANT2' 1100 2400 1000.0 2000.0 2500.0\n",
            "  50000.0 50000.0 70000.0 22000.0 15000.0 15000.0 nan nan nan]\n",
            " [3 12000.0 'BANDUNG' 'CC' nan 'PLANT3' 1200 1000 3000.0 2000.0 3000.0\n",
            "  60000.0 45000.0 55000.0 20000.0 10000.0 27000.0 nan nan nan]\n",
            " [4 15000.0 'YOGYA' 'AA' nan nan nan nan nan nan nan nan nan nan nan nan\n",
            "  nan nan nan nan]\n",
            " [5 11000.0 'YOGYA' 'BB' nan nan nan nan nan nan nan nan nan nan nan nan\n",
            "  nan nan nan nan]\n",
            " [6 10500.0 'YOGYA' 'CC' nan nan nan nan nan nan nan nan nan nan nan nan\n",
            "  nan nan nan nan]\n",
            " [7 15000.0 'MALANG' 'AA' nan nan nan nan nan nan nan nan nan nan nan nan\n",
            "  nan nan nan nan]\n",
            " [8 8500.0 'MALANG' 'BB' nan nan nan nan nan nan nan nan nan nan nan nan\n",
            "  nan nan nan nan]\n",
            " [9 9000.0 'MALANG' 'CC' nan nan nan nan nan nan nan nan nan nan nan nan\n",
            "  nan nan nan nan]\n",
            " [10 12000.0 'JAKARTA' 'AA' nan nan nan nan nan nan nan nan nan nan nan\n",
            "  nan nan nan nan nan]\n",
            " [11 7000.0 'JAKARTA' 'BB' nan nan nan nan nan nan nan nan nan nan nan\n",
            "  nan nan nan nan nan]\n",
            " [12 10000.0 'JAKARTA' 'CC' nan nan 'Nett Margin:'\n",
            "  'Index Margin - Biaya handling - Ongkir' nan nan nan nan nan nan nan\n",
            "  nan nan nan nan nan]\n",
            " ['TTL' 142000.0 142000 nan nan nan nan nan nan nan nan nan nan nan nan\n",
            "  nan nan nan nan nan]\n",
            " [nan nan nan nan nan nan nan nan nan nan nan nan nan nan nan nan nan nan\n",
            "  nan nan]\n",
            " [nan nan nan nan nan nan nan nan nan nan nan nan nan nan nan nan nan nan\n",
            "  nan nan]\n",
            " [nan nan nan nan nan nan nan nan nan nan nan nan nan nan nan nan nan nan\n",
            "  nan nan]\n",
            " [nan nan nan nan nan nan nan nan nan nan nan nan nan nan nan nan nan nan\n",
            "  nan nan]\n",
            " [nan nan nan nan nan nan nan nan nan nan nan nan nan nan nan nan nan nan\n",
            "  nan nan]\n",
            " [nan nan nan nan nan nan nan nan nan nan nan nan nan nan nan nan nan nan\n",
            "  nan nan]\n",
            " [nan nan nan nan nan nan nan nan nan nan nan nan nan nan nan nan nan nan\n",
            "  nan nan]\n",
            " [nan nan nan nan nan nan nan nan nan nan nan nan nan nan nan nan nan nan\n",
            "  nan nan]\n",
            " [nan nan nan nan nan nan nan nan nan nan nan nan nan nan nan nan nan nan\n",
            "  nan nan]\n",
            " [nan nan nan nan nan nan nan nan nan nan nan nan nan nan nan nan nan nan\n",
            "  nan nan]\n",
            " [nan nan nan nan nan nan nan nan nan nan nan nan nan nan nan nan nan nan\n",
            "  nan nan]]\n"
          ],
          "name": "stdout"
        }
      ]
    },
    {
      "cell_type": "code",
      "metadata": {
        "colab": {
          "base_uri": "https://localhost:8080/"
        },
        "id": "abOKOaJ5WvgQ",
        "outputId": "50027c0d-531c-4553-ab60-6bd01112a6c6"
      },
      "source": [
        "demand = arr_df[0:12,1:4]\n",
        "demand = demand[np.argsort(demand[:,2])]\n",
        "demand = np.reshape(demand,(3,4,-1))\n",
        "print(demand)"
      ],
      "execution_count": 5,
      "outputs": [
        {
          "output_type": "stream",
          "text": [
            "[[[20000.0 'BANDUNG' 'AA']\n",
            "  [15000.0 'YOGYA' 'AA']\n",
            "  [15000.0 'MALANG' 'AA']\n",
            "  [12000.0 'JAKARTA' 'AA']]\n",
            "\n",
            " [[12000.0 'BANDUNG' 'BB']\n",
            "  [11000.0 'YOGYA' 'BB']\n",
            "  [8500.0 'MALANG' 'BB']\n",
            "  [7000.0 'JAKARTA' 'BB']]\n",
            "\n",
            " [[12000.0 'BANDUNG' 'CC']\n",
            "  [10500.0 'YOGYA' 'CC']\n",
            "  [9000.0 'MALANG' 'CC']\n",
            "  [10000.0 'JAKARTA' 'CC']]]\n"
          ],
          "name": "stdout"
        }
      ]
    },
    {
      "cell_type": "code",
      "metadata": {
        "id": "Xv8Z7skRuFzm"
      },
      "source": [
        "a = np.unique(demand[:,:,2])\n",
        "b = np.unique(demand[:,:,1])\n",
        "num_product = a.shape[0]\n",
        "num_dest = b.shape[0]"
      ],
      "execution_count": 6,
      "outputs": []
    },
    {
      "cell_type": "code",
      "metadata": {
        "colab": {
          "base_uri": "https://localhost:8080/"
        },
        "id": "x6cVfu7IZQKW",
        "outputId": "95b0734c-8628-4426-9139-8f3a8c66bc38"
      },
      "source": [
        "plant = arr_df[0:3,6:-3]\n",
        "num_plant = 3\n",
        "print(plant)"
      ],
      "execution_count": 7,
      "outputs": [
        {
          "output_type": "stream",
          "text": [
            "[[1000 2500 1500.0 2000.0 2000.0 50000.0 45000.0 60000.0 15000.0 20000.0\n",
            "  12000.0]\n",
            " [1100 2400 1000.0 2000.0 2500.0 50000.0 50000.0 70000.0 22000.0 15000.0\n",
            "  15000.0]\n",
            " [1200 1000 3000.0 2000.0 3000.0 60000.0 45000.0 55000.0 20000.0 10000.0\n",
            "  27000.0]]\n"
          ],
          "name": "stdout"
        }
      ]
    },
    {
      "cell_type": "code",
      "metadata": {
        "colab": {
          "base_uri": "https://localhost:8080/"
        },
        "id": "GLtOw0uvZw8A",
        "outputId": "ab984108-e591-4f18-a69a-741930f6fe26"
      },
      "source": [
        "# make array that contain plant nett based on product and region\n",
        "plant_nett_region = np.zeros(((num_product,num_dest,num_plant)))\n",
        "for i in range(0,num_product):\n",
        "  for j in range(0,num_dest):\n",
        "    for k in range(0,num_plant):\n",
        "      plant_nett_region[i,j,k] = plant[k,i+5]-plant[k,j+1]-plant[k,0]\n",
        "print(plant_nett_region)"
      ],
      "execution_count": 8,
      "outputs": [
        {
          "output_type": "stream",
          "text": [
            "[[[46500. 46500. 57800.]\n",
            "  [47500. 47900. 55800.]\n",
            "  [47000. 46900. 56800.]\n",
            "  [47000. 46400. 55800.]]\n",
            "\n",
            " [[41500. 46500. 42800.]\n",
            "  [42500. 47900. 40800.]\n",
            "  [42000. 46900. 41800.]\n",
            "  [42000. 46400. 40800.]]\n",
            "\n",
            " [[56500. 66500. 52800.]\n",
            "  [57500. 67900. 50800.]\n",
            "  [57000. 66900. 51800.]\n",
            "  [57000. 66400. 50800.]]]\n"
          ],
          "name": "stdout"
        }
      ]
    },
    {
      "cell_type": "code",
      "metadata": {
        "colab": {
          "base_uri": "https://localhost:8080/"
        },
        "id": "jdRfQ0Dln4ql",
        "outputId": "47ba6823-b6e5-494c-c5a7-9b199e436d0f"
      },
      "source": [
        "capacity_plant = plant[0:plant.shape[0],-3:plant.shape[1]]\n",
        "capacity_plant = np.transpose(capacity_plant)\n",
        "print(capacity_plant)"
      ],
      "execution_count": 9,
      "outputs": [
        {
          "output_type": "stream",
          "text": [
            "[[15000.0 22000.0 20000.0]\n",
            " [20000.0 15000.0 10000.0]\n",
            " [12000.0 15000.0 27000.0]]\n"
          ],
          "name": "stdout"
        }
      ]
    },
    {
      "cell_type": "markdown",
      "metadata": {
        "id": "VlYZIIZul0pf"
      },
      "source": [
        "## **Optimization**"
      ]
    },
    {
      "cell_type": "code",
      "metadata": {
        "id": "NavhmQueZwzw"
      },
      "source": [
        "copy_capacity_plant = np.array(capacity_plant)\n",
        "copy_plant_nett_region = np.array(plant_nett_region)\n",
        "copy_demand = np.array(demand)\n",
        "plant_opt = np.zeros(((num_product,num_dest,num_plant)))\n",
        "num = plant_nett_region.shape[1]*plant_nett_region.shape[2]"
      ],
      "execution_count": 10,
      "outputs": []
    },
    {
      "cell_type": "code",
      "metadata": {
        "id": "TdIZcraw2-3O"
      },
      "source": [
        "def linprogam(mthd):\n",
        "  total = 0\n",
        "  balance = []\n",
        "  for i in range(0,num_plant):\n",
        "    c = copy_plant_nett_region[i].transpose()\n",
        "    c = c.reshape(-1)\n",
        "    c *= -1\n",
        "    A = np.zeros((copy_plant_nett_region.shape[-1]+copy_plant_nett_region.shape[-2], copy_plant_nett_region.shape[-1]*copy_plant_nett_region.shape[-2]))\n",
        "    B = []\n",
        "    l = 0\n",
        "    u = 0\n",
        "    for n in range(0,A.shape[0]):\n",
        "      if n < copy_plant_nett_region.shape[-1]:\n",
        "        for k in range(0,copy_plant_nett_region.shape[-2]):\n",
        "            A[n,l] = 1\n",
        "            l = l+1\n",
        "      else:\n",
        "        m = 0\n",
        "        for k in range(0,copy_plant_nett_region.shape[-1]):\n",
        "          A[n,u+m] = 1\n",
        "          m = m + 4\n",
        "        u = u + 1\n",
        "      B.append(A[n])\n",
        "    b = [copy_capacity_plant[i,0]]\n",
        "    for n in range(1,copy_capacity_plant.shape[1]):\n",
        "      b.append(copy_capacity_plant[i,n])\n",
        "    for n in range(0,copy_demand.shape[1]):\n",
        "      b.append(copy_demand[i,n,0])\n",
        "    sim = linprog(c, A_ub=B, b_ub=b, method=mthd)\n",
        "    total = total + sim.fun*-1\n",
        "    balance.append(sim.x)\n",
        "  return sim,total,mthd,balance"
      ],
      "execution_count": 11,
      "outputs": []
    },
    {
      "cell_type": "code",
      "metadata": {
        "colab": {
          "base_uri": "https://localhost:8080/"
        },
        "id": "J7cH9TDHcSBa",
        "outputId": "10edf70a-aa0e-4bd9-f069-fe11bb6cdc54"
      },
      "source": [
        "s = linprogam('simplex')\n",
        "r = linprogam('revised simplex')\n",
        "hi = linprogam('highs-ipm')\n",
        "hs =linprogam('highs')\n",
        "hd = linprogam('highs-ds')\n",
        "lst = [s,r,hi,hs,hd]\n",
        "for i in lst:\n",
        "  print('Method (', i[2],') \\n Total Nett Margin:', i[1],'\\n')"
      ],
      "execution_count": 12,
      "outputs": [
        {
          "output_type": "stream",
          "text": [
            "Method ( simplex ) \n",
            " Total Nett Margin: 7077600000.0 \n",
            "\n",
            "Method ( revised simplex ) \n",
            " Total Nett Margin: 7077600000.0 \n",
            "\n",
            "Method ( highs-ipm ) \n",
            " Total Nett Margin: 7077600000.0 \n",
            "\n",
            "Method ( highs ) \n",
            " Total Nett Margin: 7077600000.0 \n",
            "\n",
            "Method ( highs-ds ) \n",
            " Total Nett Margin: 7077600000.0 \n",
            "\n"
          ],
          "name": "stdout"
        }
      ]
    },
    {
      "cell_type": "code",
      "metadata": {
        "id": "1OhIiuG37EsU"
      },
      "source": [
        "b = np.array(s[3]).reshape(copy_plant_nett_region.shape[0],copy_plant_nett_region.shape[2],copy_plant_nett_region.shape[1])\n",
        "optimum = np.zeros(((copy_plant_nett_region.shape[0],copy_plant_nett_region.shape[1],copy_plant_nett_region.shape[2])))\n",
        "for i in range(0,copy_plant_nett_region.shape[0]):\n",
        "  for j in range(0,copy_plant_nett_region.shape[1]):\n",
        "    for k in range(0,copy_plant_nett_region.shape[2]):\n",
        "      optimum[i,j,k] = b[i,k,j]"
      ],
      "execution_count": 13,
      "outputs": []
    },
    {
      "cell_type": "code",
      "metadata": {
        "colab": {
          "base_uri": "https://localhost:8080/"
        },
        "id": "GsFPySybBWLQ",
        "outputId": "beee672e-67ec-47ae-f809-41476b0d4946"
      },
      "source": [
        "optimum"
      ],
      "execution_count": 14,
      "outputs": [
        {
          "output_type": "execute_result",
          "data": {
            "text/plain": [
              "array([[[    0.,     0., 20000.],\n",
              "        [    0., 15000.,     0.],\n",
              "        [ 3000.,  7000.,     0.],\n",
              "        [12000.,     0.,     0.]],\n",
              "\n",
              "       [[    0.,  2000., 10000.],\n",
              "        [    0., 11000.,     0.],\n",
              "        [ 6500.,  2000.,     0.],\n",
              "        [ 7000.,     0.,     0.]],\n",
              "\n",
              "       [[    0.,     0., 12000.],\n",
              "        [    0., 10500.,     0.],\n",
              "        [ 2000.,  4500.,  2500.],\n",
              "        [10000.,     0.,     0.]]])"
            ]
          },
          "metadata": {
            "tags": []
          },
          "execution_count": 14
        }
      ]
    },
    {
      "cell_type": "markdown",
      "metadata": {
        "id": "xQd-dPxLMtUm"
      },
      "source": [
        "\n",
        "\n",
        "## **Result**\n",
        "\n"
      ]
    },
    {
      "cell_type": "code",
      "metadata": {
        "id": "cIEZBQcMmum7"
      },
      "source": [
        "a = optimum.reshape(12,-1)\n",
        "b = demand.reshape(12,-1)\n",
        "c = plant_nett_region.reshape(12,-1)\n",
        "total = a * c"
      ],
      "execution_count": 15,
      "outputs": []
    },
    {
      "cell_type": "code",
      "metadata": {
        "id": "q8l4X5FPa4kk"
      },
      "source": [
        "all = np.concatenate((b,a,c,total),axis=1)"
      ],
      "execution_count": 16,
      "outputs": []
    },
    {
      "cell_type": "code",
      "metadata": {
        "id": "CQZI4-6SIibk"
      },
      "source": [
        "finish = pd.DataFrame(all, columns = ['Demand','Kota','Produk','Plant 1','Plant 2','Plant 3','Nett Margin 1','Nett Margin 2','Nett Margin 3','Total 1','Total 2','Total 3'])"
      ],
      "execution_count": 17,
      "outputs": []
    },
    {
      "cell_type": "code",
      "metadata": {
        "colab": {
          "base_uri": "https://localhost:8080/",
          "height": 392
        },
        "id": "8stTd6fpKw-b",
        "outputId": "7b73fe4e-2681-49b0-95c5-753fb30b7322"
      },
      "source": [
        "finish"
      ],
      "execution_count": 18,
      "outputs": [
        {
          "output_type": "execute_result",
          "data": {
            "text/html": [
              "<div>\n",
              "<style scoped>\n",
              "    .dataframe tbody tr th:only-of-type {\n",
              "        vertical-align: middle;\n",
              "    }\n",
              "\n",
              "    .dataframe tbody tr th {\n",
              "        vertical-align: top;\n",
              "    }\n",
              "\n",
              "    .dataframe thead th {\n",
              "        text-align: right;\n",
              "    }\n",
              "</style>\n",
              "<table border=\"1\" class=\"dataframe\">\n",
              "  <thead>\n",
              "    <tr style=\"text-align: right;\">\n",
              "      <th></th>\n",
              "      <th>Demand</th>\n",
              "      <th>Kota</th>\n",
              "      <th>Produk</th>\n",
              "      <th>Plant 1</th>\n",
              "      <th>Plant 2</th>\n",
              "      <th>Plant 3</th>\n",
              "      <th>Nett Margin 1</th>\n",
              "      <th>Nett Margin 2</th>\n",
              "      <th>Nett Margin 3</th>\n",
              "      <th>Total 1</th>\n",
              "      <th>Total 2</th>\n",
              "      <th>Total 3</th>\n",
              "    </tr>\n",
              "  </thead>\n",
              "  <tbody>\n",
              "    <tr>\n",
              "      <th>0</th>\n",
              "      <td>20000</td>\n",
              "      <td>BANDUNG</td>\n",
              "      <td>AA</td>\n",
              "      <td>0</td>\n",
              "      <td>0</td>\n",
              "      <td>20000</td>\n",
              "      <td>46500</td>\n",
              "      <td>46500</td>\n",
              "      <td>57800</td>\n",
              "      <td>0</td>\n",
              "      <td>0</td>\n",
              "      <td>1.156e+09</td>\n",
              "    </tr>\n",
              "    <tr>\n",
              "      <th>1</th>\n",
              "      <td>15000</td>\n",
              "      <td>YOGYA</td>\n",
              "      <td>AA</td>\n",
              "      <td>0</td>\n",
              "      <td>15000</td>\n",
              "      <td>0</td>\n",
              "      <td>47500</td>\n",
              "      <td>47900</td>\n",
              "      <td>55800</td>\n",
              "      <td>0</td>\n",
              "      <td>7.185e+08</td>\n",
              "      <td>0</td>\n",
              "    </tr>\n",
              "    <tr>\n",
              "      <th>2</th>\n",
              "      <td>15000</td>\n",
              "      <td>MALANG</td>\n",
              "      <td>AA</td>\n",
              "      <td>3000</td>\n",
              "      <td>7000</td>\n",
              "      <td>0</td>\n",
              "      <td>47000</td>\n",
              "      <td>46900</td>\n",
              "      <td>56800</td>\n",
              "      <td>1.41e+08</td>\n",
              "      <td>3.283e+08</td>\n",
              "      <td>0</td>\n",
              "    </tr>\n",
              "    <tr>\n",
              "      <th>3</th>\n",
              "      <td>12000</td>\n",
              "      <td>JAKARTA</td>\n",
              "      <td>AA</td>\n",
              "      <td>12000</td>\n",
              "      <td>0</td>\n",
              "      <td>0</td>\n",
              "      <td>47000</td>\n",
              "      <td>46400</td>\n",
              "      <td>55800</td>\n",
              "      <td>5.64e+08</td>\n",
              "      <td>0</td>\n",
              "      <td>0</td>\n",
              "    </tr>\n",
              "    <tr>\n",
              "      <th>4</th>\n",
              "      <td>12000</td>\n",
              "      <td>BANDUNG</td>\n",
              "      <td>BB</td>\n",
              "      <td>0</td>\n",
              "      <td>2000</td>\n",
              "      <td>10000</td>\n",
              "      <td>41500</td>\n",
              "      <td>46500</td>\n",
              "      <td>42800</td>\n",
              "      <td>0</td>\n",
              "      <td>9.3e+07</td>\n",
              "      <td>4.28e+08</td>\n",
              "    </tr>\n",
              "    <tr>\n",
              "      <th>5</th>\n",
              "      <td>11000</td>\n",
              "      <td>YOGYA</td>\n",
              "      <td>BB</td>\n",
              "      <td>0</td>\n",
              "      <td>11000</td>\n",
              "      <td>0</td>\n",
              "      <td>42500</td>\n",
              "      <td>47900</td>\n",
              "      <td>40800</td>\n",
              "      <td>0</td>\n",
              "      <td>5.269e+08</td>\n",
              "      <td>0</td>\n",
              "    </tr>\n",
              "    <tr>\n",
              "      <th>6</th>\n",
              "      <td>8500</td>\n",
              "      <td>MALANG</td>\n",
              "      <td>BB</td>\n",
              "      <td>6500</td>\n",
              "      <td>2000</td>\n",
              "      <td>0</td>\n",
              "      <td>42000</td>\n",
              "      <td>46900</td>\n",
              "      <td>41800</td>\n",
              "      <td>2.73e+08</td>\n",
              "      <td>9.38e+07</td>\n",
              "      <td>0</td>\n",
              "    </tr>\n",
              "    <tr>\n",
              "      <th>7</th>\n",
              "      <td>7000</td>\n",
              "      <td>JAKARTA</td>\n",
              "      <td>BB</td>\n",
              "      <td>7000</td>\n",
              "      <td>0</td>\n",
              "      <td>0</td>\n",
              "      <td>42000</td>\n",
              "      <td>46400</td>\n",
              "      <td>40800</td>\n",
              "      <td>2.94e+08</td>\n",
              "      <td>0</td>\n",
              "      <td>0</td>\n",
              "    </tr>\n",
              "    <tr>\n",
              "      <th>8</th>\n",
              "      <td>12000</td>\n",
              "      <td>BANDUNG</td>\n",
              "      <td>CC</td>\n",
              "      <td>0</td>\n",
              "      <td>0</td>\n",
              "      <td>12000</td>\n",
              "      <td>56500</td>\n",
              "      <td>66500</td>\n",
              "      <td>52800</td>\n",
              "      <td>0</td>\n",
              "      <td>0</td>\n",
              "      <td>6.336e+08</td>\n",
              "    </tr>\n",
              "    <tr>\n",
              "      <th>9</th>\n",
              "      <td>10500</td>\n",
              "      <td>YOGYA</td>\n",
              "      <td>CC</td>\n",
              "      <td>0</td>\n",
              "      <td>10500</td>\n",
              "      <td>0</td>\n",
              "      <td>57500</td>\n",
              "      <td>67900</td>\n",
              "      <td>50800</td>\n",
              "      <td>0</td>\n",
              "      <td>7.1295e+08</td>\n",
              "      <td>0</td>\n",
              "    </tr>\n",
              "    <tr>\n",
              "      <th>10</th>\n",
              "      <td>9000</td>\n",
              "      <td>MALANG</td>\n",
              "      <td>CC</td>\n",
              "      <td>2000</td>\n",
              "      <td>4500</td>\n",
              "      <td>2500</td>\n",
              "      <td>57000</td>\n",
              "      <td>66900</td>\n",
              "      <td>51800</td>\n",
              "      <td>1.14e+08</td>\n",
              "      <td>3.0105e+08</td>\n",
              "      <td>1.295e+08</td>\n",
              "    </tr>\n",
              "    <tr>\n",
              "      <th>11</th>\n",
              "      <td>10000</td>\n",
              "      <td>JAKARTA</td>\n",
              "      <td>CC</td>\n",
              "      <td>10000</td>\n",
              "      <td>0</td>\n",
              "      <td>0</td>\n",
              "      <td>57000</td>\n",
              "      <td>66400</td>\n",
              "      <td>50800</td>\n",
              "      <td>5.7e+08</td>\n",
              "      <td>0</td>\n",
              "      <td>0</td>\n",
              "    </tr>\n",
              "  </tbody>\n",
              "</table>\n",
              "</div>"
            ],
            "text/plain": [
              "   Demand     Kota Produk  ...   Total 1     Total 2    Total 3\n",
              "0   20000  BANDUNG     AA  ...         0           0  1.156e+09\n",
              "1   15000    YOGYA     AA  ...         0   7.185e+08          0\n",
              "2   15000   MALANG     AA  ...  1.41e+08   3.283e+08          0\n",
              "3   12000  JAKARTA     AA  ...  5.64e+08           0          0\n",
              "4   12000  BANDUNG     BB  ...         0     9.3e+07   4.28e+08\n",
              "5   11000    YOGYA     BB  ...         0   5.269e+08          0\n",
              "6    8500   MALANG     BB  ...  2.73e+08    9.38e+07          0\n",
              "7    7000  JAKARTA     BB  ...  2.94e+08           0          0\n",
              "8   12000  BANDUNG     CC  ...         0           0  6.336e+08\n",
              "9   10500    YOGYA     CC  ...         0  7.1295e+08          0\n",
              "10   9000   MALANG     CC  ...  1.14e+08  3.0105e+08  1.295e+08\n",
              "11  10000  JAKARTA     CC  ...   5.7e+08           0          0\n",
              "\n",
              "[12 rows x 12 columns]"
            ]
          },
          "metadata": {
            "tags": []
          },
          "execution_count": 18
        }
      ]
    },
    {
      "cell_type": "code",
      "metadata": {
        "id": "JDXbgyqRDMkM"
      },
      "source": [
        "finish.to_excel('/content/drive/MyDrive/test1b-edwinsanjaya.xlsx', header=True, index=False)"
      ],
      "execution_count": 19,
      "outputs": []
    }
  ]
}